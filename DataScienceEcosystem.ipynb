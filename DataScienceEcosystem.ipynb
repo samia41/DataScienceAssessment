{
 "cells": [
  {
   "cell_type": "markdown",
   "id": "ce3526b0-6fbc-4568-bb0a-ca21d2a64cf6",
   "metadata": {},
   "source": [
    "# Data Science Tools and Ecosystem"
   ]
  },
  {
   "cell_type": "markdown",
   "id": "e0e58ff3-6211-4db1-8c62-ac9c51b7204c",
   "metadata": {},
   "source": [
    "In this notebook, Data Science Tools and Ecosystem are summarized."
   ]
  },
  {
   "cell_type": "markdown",
   "id": "20512852-87d9-428e-91c0-51d91ae37741",
   "metadata": {},
   "source": [
    "**Objectives:**\n",
    "\n",
    "- List popular languages for Data Science  \n",
    "- Identify commonly used libraries in Data Science  \n",
    "- Describe open-source development environment tools used in Data Science  \n",
    "- Summarize the role of Data Science in the ecosystem  "
   ]
  },
  {
   "cell_type": "markdown",
   "id": "8393b3b2-864b-4444-a698-a5b218a39e6d",
   "metadata": {},
   "source": [
    "Some of the popular languages that Data Scientists use are:\n",
    "1. Python\n",
    "2. R "
   ]
  },
  {
   "cell_type": "markdown",
   "id": "f4319f92-8d58-481f-9191-e8b9474cb5bc",
   "metadata": {},
   "source": [
    "Some of the commonly used libraries used by Data Scientists include:\n",
    "1. Pandas\n",
    "2. skilearn\n",
    "3. TensorFlow\n",
    "   \n"
   ]
  },
  {
   "cell_type": "markdown",
   "id": "ba0717d4-3a72-4141-882e-8ef7125b5787",
   "metadata": {},
   "source": [
    "| Data Science Tools|\n",
    "|:-----------------:|\n",
    "| Jupyter Notebook  |\n",
    "| RStudio           |\n",
    "| Spyder            |\n"
   ]
  },
  {
   "cell_type": "markdown",
   "id": "0f66f8c5-f9c5-4a84-8f63-06720d8f2d61",
   "metadata": {},
   "source": [
    "### Below are a few examples of evaluating arithmetic expressions in Python"
   ]
  },
  {
   "cell_type": "code",
   "execution_count": 3,
   "id": "dd95ba97-e9d6-4705-9a6a-0bea82f5da07",
   "metadata": {},
   "outputs": [
    {
     "data": {
      "text/plain": [
       "17"
      ]
     },
     "execution_count": 3,
     "metadata": {},
     "output_type": "execute_result"
    }
   ],
   "source": [
    "# This a simple arithmetic expression to mutiply then add integers\n",
    "(3*4)+5"
   ]
  },
  {
   "cell_type": "code",
   "execution_count": 4,
   "id": "80fb5672-073c-4b81-846b-7e2faae33a3f",
   "metadata": {},
   "outputs": [
    {
     "data": {
      "text/plain": [
       "3.3333333333333335"
      ]
     },
     "execution_count": 4,
     "metadata": {},
     "output_type": "execute_result"
    }
   ],
   "source": [
    "# This will convert 200 minutes to hours by diving by 60\n",
    "200 / 60"
   ]
  },
  {
   "cell_type": "markdown",
   "id": "d5c3c457-9e73-48e9-b4f9-a835fba5c546",
   "metadata": {},
   "source": [
    "## Author  \n",
    "Samiya"
   ]
  },
  {
   "cell_type": "code",
   "execution_count": null,
   "id": "39f49d59-9e90-43c4-baa0-642b6fd7e082",
   "metadata": {},
   "outputs": [],
   "source": []
  }
 ],
 "metadata": {
  "kernelspec": {
   "display_name": "Python 3 (ipykernel)",
   "language": "python",
   "name": "python3"
  },
  "language_info": {
   "codemirror_mode": {
    "name": "ipython",
    "version": 3
   },
   "file_extension": ".py",
   "mimetype": "text/x-python",
   "name": "python",
   "nbconvert_exporter": "python",
   "pygments_lexer": "ipython3",
   "version": "3.12.8"
  }
 },
 "nbformat": 4,
 "nbformat_minor": 5
}
